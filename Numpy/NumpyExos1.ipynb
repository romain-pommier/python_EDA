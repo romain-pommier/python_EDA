{
 "cells": [
  {
   "cell_type": "code",
   "execution_count": 2,
   "metadata": {},
   "outputs": [],
   "source": [
    "import numpy as np"
   ]
  },
  {
   "cell_type": "markdown",
   "metadata": {},
   "source": [
    "# Quelques fonctions utiles"
   ]
  },
  {
   "cell_type": "markdown",
   "metadata": {},
   "source": [
    "On a créé un tableau 2D `rdm_mat` contenant des valeurs aléatoires. "
   ]
  },
  {
   "cell_type": "code",
   "execution_count": 7,
   "metadata": {},
   "outputs": [
    {
     "name": "stdout",
     "output_type": "stream",
     "text": [
      "[[8 5]\n",
      " [6 8]]\n"
     ]
    }
   ],
   "source": [
    "rdm_mat = np.random.random((2,2)) * 10\n",
    "rdm_mat = np.array(rdm_mat, dtype='int')\n",
    "print(rdm_mat)"
   ]
  },
  {
   "cell_type": "markdown",
   "metadata": {},
   "source": [
    "Donner le type de la variable rdm_mat"
   ]
  },
  {
   "cell_type": "code",
   "execution_count": 9,
   "metadata": {},
   "outputs": [
    {
     "data": {
      "text/plain": [
       "dtype('int32')"
      ]
     },
     "execution_count": 9,
     "metadata": {},
     "output_type": "execute_result"
    }
   ],
   "source": [
    "rdm_mat.dtype"
   ]
  },
  {
   "cell_type": "markdown",
   "metadata": {},
   "source": [
    "Donner la somme des éléments de ce tableau 2D"
   ]
  },
  {
   "cell_type": "code",
   "execution_count": 12,
   "metadata": {},
   "outputs": [
    {
     "name": "stdout",
     "output_type": "stream",
     "text": [
      "[[8 5]\n",
      " [6 8]]\n"
     ]
    },
    {
     "data": {
      "text/plain": [
       "27"
      ]
     },
     "execution_count": 12,
     "metadata": {},
     "output_type": "execute_result"
    }
   ],
   "source": [
    "print(rdm_mat)\n",
    "np.sum(rdm_mat)"
   ]
  },
  {
   "cell_type": "markdown",
   "metadata": {},
   "source": [
    "Faire en sorte de récupérer la valeur maximale sur chaque ligne (sans boucles) avec la fonction np.max"
   ]
  },
  {
   "cell_type": "code",
   "execution_count": 20,
   "metadata": {},
   "outputs": [
    {
     "data": {
      "text/plain": [
       "8"
      ]
     },
     "execution_count": 20,
     "metadata": {},
     "output_type": "execute_result"
    }
   ],
   "source": [
    "np.max(rdm_mat, axis=1).max()"
   ]
  },
  {
   "cell_type": "markdown",
   "metadata": {},
   "source": [
    "Faire de même pour récupérer la valeur maximum pour chaque colonne (sans boucles)"
   ]
  },
  {
   "cell_type": "code",
   "execution_count": 21,
   "metadata": {},
   "outputs": [
    {
     "data": {
      "text/plain": [
       "8"
      ]
     },
     "execution_count": 21,
     "metadata": {},
     "output_type": "execute_result"
    }
   ],
   "source": [
    "np.max(rdm_mat, axis=0).max()"
   ]
  },
  {
   "cell_type": "markdown",
   "metadata": {},
   "source": [
    "Faire la même chose (max des lignes) en définissant un tableau avec une boucle for et la fonction max de numpy"
   ]
  },
  {
   "cell_type": "code",
   "execution_count": null,
   "metadata": {},
   "outputs": [],
   "source": []
  },
  {
   "cell_type": "code",
   "execution_count": null,
   "metadata": {},
   "outputs": [],
   "source": []
  },
  {
   "cell_type": "code",
   "execution_count": null,
   "metadata": {},
   "outputs": [],
   "source": []
  },
  {
   "cell_type": "markdown",
   "metadata": {},
   "source": [
    "On crée un vecteur aléatoire de taille 100 `rdm_vect`"
   ]
  },
  {
   "cell_type": "code",
   "execution_count": 29,
   "metadata": {},
   "outputs": [
    {
     "data": {
      "text/plain": [
       "array([ 2.06792859,  0.05573472,  1.01580377, -0.79669878,  1.03632782,\n",
       "        0.68767296,  1.03957473, -0.60716086, -1.31439155,  0.58597258,\n",
       "       -1.73736768, -0.01561867,  0.5142159 , -0.48124219, -0.47428177,\n",
       "        1.02606369, -1.51246073, -2.09466824,  0.31849174, -1.14813898,\n",
       "        0.8206278 , -2.32198054, -0.8952578 , -0.22764561, -0.57595704,\n",
       "        2.36978174,  0.86792944,  2.39059233,  1.24168127, -0.42082041,\n",
       "       -1.22437246,  0.22880579, -0.46289892,  1.00469151, -1.31707612,\n",
       "        0.85385291,  0.81136262,  0.57038823,  0.48197592,  0.79187445,\n",
       "       -0.64919764,  0.62394005, -0.50587392, -2.07273063,  1.73780237,\n",
       "       -0.61246727, -0.58862775, -0.00522313,  0.87944385, -0.41922789,\n",
       "       -0.52926441, -1.55975971, -0.69924626,  1.50521056,  1.1802226 ,\n",
       "       -0.12801658,  1.56286914,  0.40797641,  0.77210832,  1.62605591,\n",
       "        0.08317317, -0.34161019, -1.0378878 ,  0.05570816, -0.54463744,\n",
       "       -0.96285567, -0.50787903,  0.76975482,  1.35051586,  0.50479015,\n",
       "        0.98783935, -1.3544222 , -1.64200793,  1.59792304,  1.83901414,\n",
       "        0.17257028, -0.33733875,  0.58273814,  0.65470032, -0.25727079,\n",
       "        0.17883568,  0.65242124,  0.5390615 ,  0.5210845 ,  1.04954414,\n",
       "       -0.38449088,  0.41550866,  1.22854815, -0.46073473, -0.62569432,\n",
       "       -0.51021305, -0.58907761, -0.39733032,  1.31444392, -0.07461357,\n",
       "        0.72521007,  0.33027845, -1.19461897,  0.26252901, -1.32534559])"
      ]
     },
     "execution_count": 29,
     "metadata": {},
     "output_type": "execute_result"
    }
   ],
   "source": [
    "rdm_vect = np.random.randn(100)\n",
    "rdm_vect"
   ]
  },
  {
   "cell_type": "markdown",
   "metadata": {},
   "source": [
    "Récupérer la position de la valeur maximale du vecteur avec la méthode np.argmax"
   ]
  },
  {
   "cell_type": "code",
   "execution_count": 30,
   "metadata": {},
   "outputs": [
    {
     "data": {
      "text/plain": [
       "27"
      ]
     },
     "execution_count": 30,
     "metadata": {},
     "output_type": "execute_result"
    }
   ],
   "source": [
    "np.argmax(rdm_vect)"
   ]
  },
  {
   "cell_type": "markdown",
   "metadata": {},
   "source": [
    "Afficher cette valeur "
   ]
  },
  {
   "cell_type": "code",
   "execution_count": 31,
   "metadata": {},
   "outputs": [
    {
     "data": {
      "text/plain": [
       "2.3905923337170307"
      ]
     },
     "execution_count": 31,
     "metadata": {},
     "output_type": "execute_result"
    }
   ],
   "source": [
    "rdm_vect.max()"
   ]
  },
  {
   "cell_type": "markdown",
   "metadata": {},
   "source": [
    "Convertir le vecteur en un tableau 10, 10"
   ]
  },
  {
   "cell_type": "code",
   "execution_count": 32,
   "metadata": {},
   "outputs": [
    {
     "data": {
      "text/plain": [
       "array([[ 2.06792859,  0.05573472,  1.01580377, -0.79669878,  1.03632782,\n",
       "         0.68767296,  1.03957473, -0.60716086, -1.31439155,  0.58597258],\n",
       "       [-1.73736768, -0.01561867,  0.5142159 , -0.48124219, -0.47428177,\n",
       "         1.02606369, -1.51246073, -2.09466824,  0.31849174, -1.14813898],\n",
       "       [ 0.8206278 , -2.32198054, -0.8952578 , -0.22764561, -0.57595704,\n",
       "         2.36978174,  0.86792944,  2.39059233,  1.24168127, -0.42082041],\n",
       "       [-1.22437246,  0.22880579, -0.46289892,  1.00469151, -1.31707612,\n",
       "         0.85385291,  0.81136262,  0.57038823,  0.48197592,  0.79187445],\n",
       "       [-0.64919764,  0.62394005, -0.50587392, -2.07273063,  1.73780237,\n",
       "        -0.61246727, -0.58862775, -0.00522313,  0.87944385, -0.41922789],\n",
       "       [-0.52926441, -1.55975971, -0.69924626,  1.50521056,  1.1802226 ,\n",
       "        -0.12801658,  1.56286914,  0.40797641,  0.77210832,  1.62605591],\n",
       "       [ 0.08317317, -0.34161019, -1.0378878 ,  0.05570816, -0.54463744,\n",
       "        -0.96285567, -0.50787903,  0.76975482,  1.35051586,  0.50479015],\n",
       "       [ 0.98783935, -1.3544222 , -1.64200793,  1.59792304,  1.83901414,\n",
       "         0.17257028, -0.33733875,  0.58273814,  0.65470032, -0.25727079],\n",
       "       [ 0.17883568,  0.65242124,  0.5390615 ,  0.5210845 ,  1.04954414,\n",
       "        -0.38449088,  0.41550866,  1.22854815, -0.46073473, -0.62569432],\n",
       "       [-0.51021305, -0.58907761, -0.39733032,  1.31444392, -0.07461357,\n",
       "         0.72521007,  0.33027845, -1.19461897,  0.26252901, -1.32534559]])"
      ]
     },
     "execution_count": 32,
     "metadata": {},
     "output_type": "execute_result"
    }
   ],
   "source": [
    "rdm_vect.reshape(10, 10)"
   ]
  },
  {
   "cell_type": "markdown",
   "metadata": {},
   "source": [
    "Calculer la moyenne de chaque ligne de ce tableau (sans boucles)"
   ]
  },
  {
   "cell_type": "code",
   "execution_count": 40,
   "metadata": {},
   "outputs": [
    {
     "data": {
      "text/plain": [
       "0.08947470100378804"
      ]
     },
     "execution_count": 40,
     "metadata": {},
     "output_type": "execute_result"
    }
   ],
   "source": [
    "np.mean(rdm_vect, axis=0)"
   ]
  },
  {
   "cell_type": "markdown",
   "metadata": {},
   "source": [
    "Faire un tableau qui contient la moyenne de chaque colonne du tableau "
   ]
  },
  {
   "cell_type": "code",
   "execution_count": null,
   "metadata": {},
   "outputs": [],
   "source": []
  },
  {
   "cell_type": "markdown",
   "metadata": {},
   "source": [
    "Calculer la somme de chaque colonne (sans boucles)"
   ]
  },
  {
   "cell_type": "code",
   "execution_count": 42,
   "metadata": {},
   "outputs": [
    {
     "name": "stdout",
     "output_type": "stream",
     "text": [
      "[ 2.06792859  2.12366331  3.13946708  2.3427683   3.37909611  4.06676908\n",
      "  5.10634381  4.49918295  3.1847914   3.77076398  2.0333963   2.01777763\n",
      "  2.53199353  2.05075134  1.57646956  2.60253325  1.09007253 -1.00459572\n",
      " -0.68610398 -1.83424296 -1.01361516 -3.33559569 -4.2308535  -4.4584991\n",
      " -5.03445615 -2.66467441 -1.79674496  0.59384737  1.83552864  1.41470823\n",
      "  0.19033577  0.41914156 -0.04375736  0.96093415 -0.35614197  0.49771094\n",
      "  1.30907356  1.87946179  2.3614377   3.15331216  2.50411451  3.12805456\n",
      "  2.62218064  0.54945002  2.28725239  1.67478512  1.08615737  1.08093424\n",
      "  1.96037809  1.5411502   1.0118858  -0.54787392 -1.24712018  0.25809038\n",
      "  1.43831298  1.3102964   2.87316554  3.28114195  4.05325026  5.67930617\n",
      "  5.76247934  5.42086915  4.38298135  4.4386895   3.89405206  2.9311964\n",
      "  2.42331737  3.19307218  4.54358804  5.0483782   6.03621755  4.68179534\n",
      "  3.03978742  4.63771045  6.4767246   6.64929488  6.31195613  6.89469427\n",
      "  7.54939459  7.2921238   7.47095948  8.12338072  8.66244222  9.18352672\n",
      " 10.23307087  9.84857998 10.26408864 11.49263679 11.03190207 10.40620775\n",
      "  9.8959947   9.3069171   8.90958678 10.22403069 10.14941713 10.8746272\n",
      " 11.20490565 10.01028668 10.27281569  8.9474701 ]\n",
      "100\n"
     ]
    }
   ],
   "source": [
    "np.sum()\n",
    "\n",
    "print(np.cumsum(rdm_vect, axis=0))\n",
    "print(len(rdm_vect))"
   ]
  },
  {
   "cell_type": "markdown",
   "metadata": {},
   "source": [
    "Calculer la somme pour chaque ligne (sans boucles)"
   ]
  },
  {
   "cell_type": "code",
   "execution_count": 24,
   "metadata": {},
   "outputs": [
    {
     "data": {
      "text/plain": [
       "array([-2.45928276e+00,  3.30057119e+00, -6.94069374e-01,  1.16367130e-01,\n",
       "       -7.35080583e-01,  1.78359994e-03, -1.12472416e+00,  9.99337195e+00,\n",
       "       -1.69671892e+00,  1.56672647e+00])"
      ]
     },
     "execution_count": 24,
     "metadata": {},
     "output_type": "execute_result"
    }
   ],
   "source": []
  },
  {
   "cell_type": "code",
   "execution_count": null,
   "metadata": {},
   "outputs": [],
   "source": []
  }
 ],
 "metadata": {
  "kernelspec": {
   "display_name": "Python 3",
   "language": "python",
   "name": "python3"
  },
  "language_info": {
   "codemirror_mode": {
    "name": "ipython",
    "version": 3
   },
   "file_extension": ".py",
   "mimetype": "text/x-python",
   "name": "python",
   "nbconvert_exporter": "python",
   "pygments_lexer": "ipython3",
   "version": "3.8.6"
  },
  "latex_envs": {
   "LaTeX_envs_menu_present": true,
   "autoclose": false,
   "autocomplete": true,
   "bibliofile": "biblio.bib",
   "cite_by": "apalike",
   "current_citInitial": 1,
   "eqLabelWithNumbers": true,
   "eqNumInitial": 1,
   "hotkeys": {
    "equation": "Ctrl-E",
    "itemize": "Ctrl-I"
   },
   "labels_anchors": false,
   "latex_user_defs": false,
   "report_style_numbering": false,
   "user_envs_cfg": false
  },
  "toc": {
   "base_numbering": 1,
   "nav_menu": {},
   "number_sections": true,
   "sideBar": true,
   "skip_h1_title": false,
   "title_cell": "Table of Contents",
   "title_sidebar": "Contents",
   "toc_cell": false,
   "toc_position": {},
   "toc_section_display": true,
   "toc_window_display": false
  },
  "varInspector": {
   "cols": {
    "lenName": 16,
    "lenType": 16,
    "lenVar": 40
   },
   "kernels_config": {
    "python": {
     "delete_cmd_postfix": "",
     "delete_cmd_prefix": "del ",
     "library": "var_list.py",
     "varRefreshCmd": "print(var_dic_list())"
    },
    "r": {
     "delete_cmd_postfix": ") ",
     "delete_cmd_prefix": "rm(",
     "library": "var_list.r",
     "varRefreshCmd": "cat(var_dic_list()) "
    }
   },
   "types_to_exclude": [
    "module",
    "function",
    "builtin_function_or_method",
    "instance",
    "_Feature"
   ],
   "window_display": false
  }
 },
 "nbformat": 4,
 "nbformat_minor": 2
}
