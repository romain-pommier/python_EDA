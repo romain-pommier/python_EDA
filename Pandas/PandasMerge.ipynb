{
 "cells": [
  {
   "cell_type": "markdown",
   "metadata": {},
   "source": [
    "# Merging Data avec Pandas \n",
    "\n",
    "Dans la science de données on a souvent besoin de fusionner des tableaux. On peut le faire avec la fonction `merge()` qui prend comme paramètres deux `DataFrames` ainsi que les colonnes avec lesquelles réaliser les jointures. Cette méthode est très similaire à SQL sur le principe 🔭\n"
   ]
  },
  {
   "cell_type": "markdown",
   "metadata": {},
   "source": [
    "### Importer pandas et les dataset `user_device.csv`, `user_usage.csv` et `android_devices.csv`"
   ]
  },
  {
   "cell_type": "code",
   "execution_count": 217,
   "metadata": {},
   "outputs": [
    {
     "name": "stdout",
     "output_type": "stream",
     "text": [
      "     use_id  user_id platform  platform_version                  device  \\\n",
      "0     22782    26980      ios              10.2               iPhone7,2   \n",
      "1     22783    29628  android               6.0                 Nexus 5   \n",
      "2     22784    28473  android               5.1                SM-G903F   \n",
      "3     22785    15200      ios              10.2               iPhone7,2   \n",
      "4     22786    28239  android               6.0               ONE E1003   \n",
      "..      ...      ...      ...               ...                     ...   \n",
      "267   23049    29725  android               6.0                SM-G900F   \n",
      "268   23050    29726      ios              10.2               iPhone7,2   \n",
      "269   23051    29726      ios              10.2               iPhone7,2   \n",
      "270   23052    29727      ios              10.1               iPhone8,4   \n",
      "271   23053    20257  android               5.1  Vodafone Smart ultra 6   \n",
      "\n",
      "     use_type_id  \n",
      "0              2  \n",
      "1              3  \n",
      "2              1  \n",
      "3              3  \n",
      "4              1  \n",
      "..           ...  \n",
      "267            1  \n",
      "268            3  \n",
      "269            3  \n",
      "270            3  \n",
      "271            1  \n",
      "\n",
      "[272 rows x 6 columns]\n"
     ]
    }
   ],
   "source": [
    "import pandas as pd\n",
    "\n",
    "user_device = pd.read_csv('../DATA/user_device.csv')\n",
    "user_usage = pd.read_csv('../DATA/user_usage.csv')\n",
    "android_devices = pd.read_csv('../DATA/android_devices.csv')\n",
    "print(user_device)"
   ]
  },
  {
   "cell_type": "markdown",
   "metadata": {},
   "source": [
    "### Importer les dataset & renommer la colonne `Branding` du dataset `android_devices.csv`"
   ]
  },
  {
   "cell_type": "code",
   "execution_count": 31,
   "metadata": {},
   "outputs": [
    {
     "name": "stdout",
     "output_type": "stream",
     "text": [
      "         Branding Marketing Name       Device                      Model\n",
      "0             NaN            NaN       AD681H  Smartfren Andromax AD681H\n",
      "1             NaN            NaN        FJL21                      FJL21\n",
      "2             NaN            NaN          T31              Panasonic T31\n",
      "3             NaN            NaN     hws7721g         MediaPad 7 Youth 2\n",
      "4              3Q        OC1020A      OC1020A                    OC1020A\n",
      "...           ...            ...          ...                        ...\n",
      "14541       pendo    PNDPP44QC10  PNDPP44QC10                PNDPP44QC10\n",
      "14542       pendo     PNDPP44QC7   PNDPP44QC7                 PNDPP44QC7\n",
      "14543  sugar_aums         QPOINT        QPI-1                      QPI-1\n",
      "14544   tecmobile       OmnisOne     OmnisOne                  Omnis One\n",
      "14545       ucall          EASY1        EASY1                      EASY1\n",
      "\n",
      "[14546 rows x 4 columns]\n"
     ]
    }
   ],
   "source": [
    "df = pd.DataFrame(android_devices)\n",
    "newDf = df.rename(columns={\"Retail Branding\": \"Branding\"})\n",
    "print(newDf)"
   ]
  },
  {
   "cell_type": "markdown",
   "metadata": {},
   "source": [
    "### Afficher les dataset "
   ]
  },
  {
   "cell_type": "code",
   "execution_count": 39,
   "metadata": {},
   "outputs": [
    {
     "data": {
      "text/html": [
       "<div>\n",
       "<style scoped>\n",
       "    .dataframe tbody tr th:only-of-type {\n",
       "        vertical-align: middle;\n",
       "    }\n",
       "\n",
       "    .dataframe tbody tr th {\n",
       "        vertical-align: top;\n",
       "    }\n",
       "\n",
       "    .dataframe thead th {\n",
       "        text-align: right;\n",
       "    }\n",
       "</style>\n",
       "<table border=\"1\" class=\"dataframe\">\n",
       "  <thead>\n",
       "    <tr style=\"text-align: right;\">\n",
       "      <th></th>\n",
       "      <th>outgoing_mins_per_month</th>\n",
       "      <th>outgoing_sms_per_month</th>\n",
       "      <th>monthly_mb</th>\n",
       "      <th>use_id</th>\n",
       "    </tr>\n",
       "  </thead>\n",
       "  <tbody>\n",
       "    <tr>\n",
       "      <th>0</th>\n",
       "      <td>21.97</td>\n",
       "      <td>4.82</td>\n",
       "      <td>1557.33</td>\n",
       "      <td>22787</td>\n",
       "    </tr>\n",
       "    <tr>\n",
       "      <th>1</th>\n",
       "      <td>1710.08</td>\n",
       "      <td>136.88</td>\n",
       "      <td>7267.55</td>\n",
       "      <td>22788</td>\n",
       "    </tr>\n",
       "    <tr>\n",
       "      <th>2</th>\n",
       "      <td>1710.08</td>\n",
       "      <td>136.88</td>\n",
       "      <td>7267.55</td>\n",
       "      <td>22789</td>\n",
       "    </tr>\n",
       "    <tr>\n",
       "      <th>3</th>\n",
       "      <td>94.46</td>\n",
       "      <td>35.17</td>\n",
       "      <td>519.12</td>\n",
       "      <td>22790</td>\n",
       "    </tr>\n",
       "    <tr>\n",
       "      <th>4</th>\n",
       "      <td>71.59</td>\n",
       "      <td>79.26</td>\n",
       "      <td>1557.33</td>\n",
       "      <td>22792</td>\n",
       "    </tr>\n",
       "    <tr>\n",
       "      <th>...</th>\n",
       "      <td>...</td>\n",
       "      <td>...</td>\n",
       "      <td>...</td>\n",
       "      <td>...</td>\n",
       "    </tr>\n",
       "    <tr>\n",
       "      <th>235</th>\n",
       "      <td>260.66</td>\n",
       "      <td>68.44</td>\n",
       "      <td>896.96</td>\n",
       "      <td>25008</td>\n",
       "    </tr>\n",
       "    <tr>\n",
       "      <th>236</th>\n",
       "      <td>97.12</td>\n",
       "      <td>36.50</td>\n",
       "      <td>2815.00</td>\n",
       "      <td>25040</td>\n",
       "    </tr>\n",
       "    <tr>\n",
       "      <th>237</th>\n",
       "      <td>355.93</td>\n",
       "      <td>12.37</td>\n",
       "      <td>6828.09</td>\n",
       "      <td>25046</td>\n",
       "    </tr>\n",
       "    <tr>\n",
       "      <th>238</th>\n",
       "      <td>632.06</td>\n",
       "      <td>120.46</td>\n",
       "      <td>1453.16</td>\n",
       "      <td>25058</td>\n",
       "    </tr>\n",
       "    <tr>\n",
       "      <th>239</th>\n",
       "      <td>488.70</td>\n",
       "      <td>906.92</td>\n",
       "      <td>3089.85</td>\n",
       "      <td>25220</td>\n",
       "    </tr>\n",
       "  </tbody>\n",
       "</table>\n",
       "<p>240 rows × 4 columns</p>\n",
       "</div>"
      ],
      "text/plain": [
       "     outgoing_mins_per_month  outgoing_sms_per_month  monthly_mb  use_id\n",
       "0                      21.97                    4.82     1557.33   22787\n",
       "1                    1710.08                  136.88     7267.55   22788\n",
       "2                    1710.08                  136.88     7267.55   22789\n",
       "3                      94.46                   35.17      519.12   22790\n",
       "4                      71.59                   79.26     1557.33   22792\n",
       "..                       ...                     ...         ...     ...\n",
       "235                   260.66                   68.44      896.96   25008\n",
       "236                    97.12                   36.50     2815.00   25040\n",
       "237                   355.93                   12.37     6828.09   25046\n",
       "238                   632.06                  120.46     1453.16   25058\n",
       "239                   488.70                  906.92     3089.85   25220\n",
       "\n",
       "[240 rows x 4 columns]"
      ]
     },
     "execution_count": 39,
     "metadata": {},
     "output_type": "execute_result"
    }
   ],
   "source": [
    "pd.DataFrame(user_usage)"
   ]
  },
  {
   "cell_type": "code",
   "execution_count": 40,
   "metadata": {},
   "outputs": [
    {
     "data": {
      "text/html": [
       "<div>\n",
       "<style scoped>\n",
       "    .dataframe tbody tr th:only-of-type {\n",
       "        vertical-align: middle;\n",
       "    }\n",
       "\n",
       "    .dataframe tbody tr th {\n",
       "        vertical-align: top;\n",
       "    }\n",
       "\n",
       "    .dataframe thead th {\n",
       "        text-align: right;\n",
       "    }\n",
       "</style>\n",
       "<table border=\"1\" class=\"dataframe\">\n",
       "  <thead>\n",
       "    <tr style=\"text-align: right;\">\n",
       "      <th></th>\n",
       "      <th>use_id</th>\n",
       "      <th>user_id</th>\n",
       "      <th>platform</th>\n",
       "      <th>platform_version</th>\n",
       "      <th>device</th>\n",
       "      <th>use_type_id</th>\n",
       "    </tr>\n",
       "  </thead>\n",
       "  <tbody>\n",
       "    <tr>\n",
       "      <th>0</th>\n",
       "      <td>22782</td>\n",
       "      <td>26980</td>\n",
       "      <td>ios</td>\n",
       "      <td>10.2</td>\n",
       "      <td>iPhone7,2</td>\n",
       "      <td>2</td>\n",
       "    </tr>\n",
       "    <tr>\n",
       "      <th>1</th>\n",
       "      <td>22783</td>\n",
       "      <td>29628</td>\n",
       "      <td>android</td>\n",
       "      <td>6.0</td>\n",
       "      <td>Nexus 5</td>\n",
       "      <td>3</td>\n",
       "    </tr>\n",
       "    <tr>\n",
       "      <th>2</th>\n",
       "      <td>22784</td>\n",
       "      <td>28473</td>\n",
       "      <td>android</td>\n",
       "      <td>5.1</td>\n",
       "      <td>SM-G903F</td>\n",
       "      <td>1</td>\n",
       "    </tr>\n",
       "    <tr>\n",
       "      <th>3</th>\n",
       "      <td>22785</td>\n",
       "      <td>15200</td>\n",
       "      <td>ios</td>\n",
       "      <td>10.2</td>\n",
       "      <td>iPhone7,2</td>\n",
       "      <td>3</td>\n",
       "    </tr>\n",
       "    <tr>\n",
       "      <th>4</th>\n",
       "      <td>22786</td>\n",
       "      <td>28239</td>\n",
       "      <td>android</td>\n",
       "      <td>6.0</td>\n",
       "      <td>ONE E1003</td>\n",
       "      <td>1</td>\n",
       "    </tr>\n",
       "    <tr>\n",
       "      <th>...</th>\n",
       "      <td>...</td>\n",
       "      <td>...</td>\n",
       "      <td>...</td>\n",
       "      <td>...</td>\n",
       "      <td>...</td>\n",
       "      <td>...</td>\n",
       "    </tr>\n",
       "    <tr>\n",
       "      <th>267</th>\n",
       "      <td>23049</td>\n",
       "      <td>29725</td>\n",
       "      <td>android</td>\n",
       "      <td>6.0</td>\n",
       "      <td>SM-G900F</td>\n",
       "      <td>1</td>\n",
       "    </tr>\n",
       "    <tr>\n",
       "      <th>268</th>\n",
       "      <td>23050</td>\n",
       "      <td>29726</td>\n",
       "      <td>ios</td>\n",
       "      <td>10.2</td>\n",
       "      <td>iPhone7,2</td>\n",
       "      <td>3</td>\n",
       "    </tr>\n",
       "    <tr>\n",
       "      <th>269</th>\n",
       "      <td>23051</td>\n",
       "      <td>29726</td>\n",
       "      <td>ios</td>\n",
       "      <td>10.2</td>\n",
       "      <td>iPhone7,2</td>\n",
       "      <td>3</td>\n",
       "    </tr>\n",
       "    <tr>\n",
       "      <th>270</th>\n",
       "      <td>23052</td>\n",
       "      <td>29727</td>\n",
       "      <td>ios</td>\n",
       "      <td>10.1</td>\n",
       "      <td>iPhone8,4</td>\n",
       "      <td>3</td>\n",
       "    </tr>\n",
       "    <tr>\n",
       "      <th>271</th>\n",
       "      <td>23053</td>\n",
       "      <td>20257</td>\n",
       "      <td>android</td>\n",
       "      <td>5.1</td>\n",
       "      <td>Vodafone Smart ultra 6</td>\n",
       "      <td>1</td>\n",
       "    </tr>\n",
       "  </tbody>\n",
       "</table>\n",
       "<p>272 rows × 6 columns</p>\n",
       "</div>"
      ],
      "text/plain": [
       "     use_id  user_id platform  platform_version                  device  \\\n",
       "0     22782    26980      ios              10.2               iPhone7,2   \n",
       "1     22783    29628  android               6.0                 Nexus 5   \n",
       "2     22784    28473  android               5.1                SM-G903F   \n",
       "3     22785    15200      ios              10.2               iPhone7,2   \n",
       "4     22786    28239  android               6.0               ONE E1003   \n",
       "..      ...      ...      ...               ...                     ...   \n",
       "267   23049    29725  android               6.0                SM-G900F   \n",
       "268   23050    29726      ios              10.2               iPhone7,2   \n",
       "269   23051    29726      ios              10.2               iPhone7,2   \n",
       "270   23052    29727      ios              10.1               iPhone8,4   \n",
       "271   23053    20257  android               5.1  Vodafone Smart ultra 6   \n",
       "\n",
       "     use_type_id  \n",
       "0              2  \n",
       "1              3  \n",
       "2              1  \n",
       "3              3  \n",
       "4              1  \n",
       "..           ...  \n",
       "267            1  \n",
       "268            3  \n",
       "269            3  \n",
       "270            3  \n",
       "271            1  \n",
       "\n",
       "[272 rows x 6 columns]"
      ]
     },
     "execution_count": 40,
     "metadata": {},
     "output_type": "execute_result"
    }
   ],
   "source": [
    "pd.DataFrame(user_device)"
   ]
  },
  {
   "cell_type": "code",
   "execution_count": 38,
   "metadata": {
    "scrolled": false
   },
   "outputs": [
    {
     "data": {
      "text/html": [
       "<div>\n",
       "<style scoped>\n",
       "    .dataframe tbody tr th:only-of-type {\n",
       "        vertical-align: middle;\n",
       "    }\n",
       "\n",
       "    .dataframe tbody tr th {\n",
       "        vertical-align: top;\n",
       "    }\n",
       "\n",
       "    .dataframe thead th {\n",
       "        text-align: right;\n",
       "    }\n",
       "</style>\n",
       "<table border=\"1\" class=\"dataframe\">\n",
       "  <thead>\n",
       "    <tr style=\"text-align: right;\">\n",
       "      <th></th>\n",
       "      <th>Retail Branding</th>\n",
       "      <th>Marketing Name</th>\n",
       "      <th>Device</th>\n",
       "      <th>Model</th>\n",
       "    </tr>\n",
       "  </thead>\n",
       "  <tbody>\n",
       "    <tr>\n",
       "      <th>0</th>\n",
       "      <td>NaN</td>\n",
       "      <td>NaN</td>\n",
       "      <td>AD681H</td>\n",
       "      <td>Smartfren Andromax AD681H</td>\n",
       "    </tr>\n",
       "    <tr>\n",
       "      <th>1</th>\n",
       "      <td>NaN</td>\n",
       "      <td>NaN</td>\n",
       "      <td>FJL21</td>\n",
       "      <td>FJL21</td>\n",
       "    </tr>\n",
       "    <tr>\n",
       "      <th>2</th>\n",
       "      <td>NaN</td>\n",
       "      <td>NaN</td>\n",
       "      <td>T31</td>\n",
       "      <td>Panasonic T31</td>\n",
       "    </tr>\n",
       "    <tr>\n",
       "      <th>3</th>\n",
       "      <td>NaN</td>\n",
       "      <td>NaN</td>\n",
       "      <td>hws7721g</td>\n",
       "      <td>MediaPad 7 Youth 2</td>\n",
       "    </tr>\n",
       "    <tr>\n",
       "      <th>4</th>\n",
       "      <td>3Q</td>\n",
       "      <td>OC1020A</td>\n",
       "      <td>OC1020A</td>\n",
       "      <td>OC1020A</td>\n",
       "    </tr>\n",
       "    <tr>\n",
       "      <th>...</th>\n",
       "      <td>...</td>\n",
       "      <td>...</td>\n",
       "      <td>...</td>\n",
       "      <td>...</td>\n",
       "    </tr>\n",
       "    <tr>\n",
       "      <th>14541</th>\n",
       "      <td>pendo</td>\n",
       "      <td>PNDPP44QC10</td>\n",
       "      <td>PNDPP44QC10</td>\n",
       "      <td>PNDPP44QC10</td>\n",
       "    </tr>\n",
       "    <tr>\n",
       "      <th>14542</th>\n",
       "      <td>pendo</td>\n",
       "      <td>PNDPP44QC7</td>\n",
       "      <td>PNDPP44QC7</td>\n",
       "      <td>PNDPP44QC7</td>\n",
       "    </tr>\n",
       "    <tr>\n",
       "      <th>14543</th>\n",
       "      <td>sugar_aums</td>\n",
       "      <td>QPOINT</td>\n",
       "      <td>QPI-1</td>\n",
       "      <td>QPI-1</td>\n",
       "    </tr>\n",
       "    <tr>\n",
       "      <th>14544</th>\n",
       "      <td>tecmobile</td>\n",
       "      <td>OmnisOne</td>\n",
       "      <td>OmnisOne</td>\n",
       "      <td>Omnis One</td>\n",
       "    </tr>\n",
       "    <tr>\n",
       "      <th>14545</th>\n",
       "      <td>ucall</td>\n",
       "      <td>EASY1</td>\n",
       "      <td>EASY1</td>\n",
       "      <td>EASY1</td>\n",
       "    </tr>\n",
       "  </tbody>\n",
       "</table>\n",
       "<p>14546 rows × 4 columns</p>\n",
       "</div>"
      ],
      "text/plain": [
       "      Retail Branding Marketing Name       Device                      Model\n",
       "0                 NaN            NaN       AD681H  Smartfren Andromax AD681H\n",
       "1                 NaN            NaN        FJL21                      FJL21\n",
       "2                 NaN            NaN          T31              Panasonic T31\n",
       "3                 NaN            NaN     hws7721g         MediaPad 7 Youth 2\n",
       "4                  3Q        OC1020A      OC1020A                    OC1020A\n",
       "...               ...            ...          ...                        ...\n",
       "14541           pendo    PNDPP44QC10  PNDPP44QC10                PNDPP44QC10\n",
       "14542           pendo     PNDPP44QC7   PNDPP44QC7                 PNDPP44QC7\n",
       "14543      sugar_aums         QPOINT        QPI-1                      QPI-1\n",
       "14544       tecmobile       OmnisOne     OmnisOne                  Omnis One\n",
       "14545           ucall          EASY1        EASY1                      EASY1\n",
       "\n",
       "[14546 rows x 4 columns]"
      ]
     },
     "execution_count": 38,
     "metadata": {},
     "output_type": "execute_result"
    }
   ],
   "source": [
    "pd.DataFrame(android_devices)\n"
   ]
  },
  {
   "cell_type": "markdown",
   "metadata": {},
   "source": [
    "### Votre premier merge"
   ]
  },
  {
   "cell_type": "code",
   "execution_count": 6,
   "metadata": {
    "scrolled": true
   },
   "outputs": [
    {
     "data": {
      "text/html": [
       "<div>\n",
       "<style scoped>\n",
       "    .dataframe tbody tr th:only-of-type {\n",
       "        vertical-align: middle;\n",
       "    }\n",
       "\n",
       "    .dataframe tbody tr th {\n",
       "        vertical-align: top;\n",
       "    }\n",
       "\n",
       "    .dataframe thead th {\n",
       "        text-align: right;\n",
       "    }\n",
       "</style>\n",
       "<table border=\"1\" class=\"dataframe\">\n",
       "  <thead>\n",
       "    <tr style=\"text-align: right;\">\n",
       "      <th></th>\n",
       "      <th>outgoing_mins_per_month</th>\n",
       "      <th>outgoing_sms_per_month</th>\n",
       "      <th>monthly_mb</th>\n",
       "      <th>use_id</th>\n",
       "      <th>platform</th>\n",
       "      <th>device</th>\n",
       "    </tr>\n",
       "  </thead>\n",
       "  <tbody>\n",
       "    <tr>\n",
       "      <th>0</th>\n",
       "      <td>21.97</td>\n",
       "      <td>4.82</td>\n",
       "      <td>1557.33</td>\n",
       "      <td>22787</td>\n",
       "      <td>android</td>\n",
       "      <td>GT-I9505</td>\n",
       "    </tr>\n",
       "    <tr>\n",
       "      <th>1</th>\n",
       "      <td>1710.08</td>\n",
       "      <td>136.88</td>\n",
       "      <td>7267.55</td>\n",
       "      <td>22788</td>\n",
       "      <td>android</td>\n",
       "      <td>SM-G930F</td>\n",
       "    </tr>\n",
       "    <tr>\n",
       "      <th>2</th>\n",
       "      <td>1710.08</td>\n",
       "      <td>136.88</td>\n",
       "      <td>7267.55</td>\n",
       "      <td>22789</td>\n",
       "      <td>android</td>\n",
       "      <td>SM-G930F</td>\n",
       "    </tr>\n",
       "    <tr>\n",
       "      <th>3</th>\n",
       "      <td>94.46</td>\n",
       "      <td>35.17</td>\n",
       "      <td>519.12</td>\n",
       "      <td>22790</td>\n",
       "      <td>android</td>\n",
       "      <td>D2303</td>\n",
       "    </tr>\n",
       "    <tr>\n",
       "      <th>4</th>\n",
       "      <td>71.59</td>\n",
       "      <td>79.26</td>\n",
       "      <td>1557.33</td>\n",
       "      <td>22792</td>\n",
       "      <td>android</td>\n",
       "      <td>SM-G361F</td>\n",
       "    </tr>\n",
       "    <tr>\n",
       "      <th>...</th>\n",
       "      <td>...</td>\n",
       "      <td>...</td>\n",
       "      <td>...</td>\n",
       "      <td>...</td>\n",
       "      <td>...</td>\n",
       "      <td>...</td>\n",
       "    </tr>\n",
       "    <tr>\n",
       "      <th>154</th>\n",
       "      <td>198.59</td>\n",
       "      <td>90.49</td>\n",
       "      <td>5191.12</td>\n",
       "      <td>23043</td>\n",
       "      <td>android</td>\n",
       "      <td>SM-G900F</td>\n",
       "    </tr>\n",
       "    <tr>\n",
       "      <th>155</th>\n",
       "      <td>198.59</td>\n",
       "      <td>90.49</td>\n",
       "      <td>3114.67</td>\n",
       "      <td>23044</td>\n",
       "      <td>android</td>\n",
       "      <td>SM-G900F</td>\n",
       "    </tr>\n",
       "    <tr>\n",
       "      <th>156</th>\n",
       "      <td>106.65</td>\n",
       "      <td>82.13</td>\n",
       "      <td>5191.12</td>\n",
       "      <td>23046</td>\n",
       "      <td>android</td>\n",
       "      <td>Moto G (4)</td>\n",
       "    </tr>\n",
       "    <tr>\n",
       "      <th>157</th>\n",
       "      <td>344.53</td>\n",
       "      <td>20.53</td>\n",
       "      <td>519.12</td>\n",
       "      <td>23049</td>\n",
       "      <td>android</td>\n",
       "      <td>SM-G900F</td>\n",
       "    </tr>\n",
       "    <tr>\n",
       "      <th>158</th>\n",
       "      <td>42.75</td>\n",
       "      <td>46.83</td>\n",
       "      <td>5191.12</td>\n",
       "      <td>23053</td>\n",
       "      <td>android</td>\n",
       "      <td>Vodafone Smart ultra 6</td>\n",
       "    </tr>\n",
       "  </tbody>\n",
       "</table>\n",
       "<p>159 rows × 6 columns</p>\n",
       "</div>"
      ],
      "text/plain": [
       "     outgoing_mins_per_month  outgoing_sms_per_month  monthly_mb  use_id  \\\n",
       "0                      21.97                    4.82     1557.33   22787   \n",
       "1                    1710.08                  136.88     7267.55   22788   \n",
       "2                    1710.08                  136.88     7267.55   22789   \n",
       "3                      94.46                   35.17      519.12   22790   \n",
       "4                      71.59                   79.26     1557.33   22792   \n",
       "..                       ...                     ...         ...     ...   \n",
       "154                   198.59                   90.49     5191.12   23043   \n",
       "155                   198.59                   90.49     3114.67   23044   \n",
       "156                   106.65                   82.13     5191.12   23046   \n",
       "157                   344.53                   20.53      519.12   23049   \n",
       "158                    42.75                   46.83     5191.12   23053   \n",
       "\n",
       "    platform                  device  \n",
       "0    android                GT-I9505  \n",
       "1    android                SM-G930F  \n",
       "2    android                SM-G930F  \n",
       "3    android                   D2303  \n",
       "4    android                SM-G361F  \n",
       "..       ...                     ...  \n",
       "154  android                SM-G900F  \n",
       "155  android                SM-G900F  \n",
       "156  android              Moto G (4)  \n",
       "157  android                SM-G900F  \n",
       "158  android  Vodafone Smart ultra 6  \n",
       "\n",
       "[159 rows x 6 columns]"
      ]
     },
     "execution_count": 6,
     "metadata": {},
     "output_type": "execute_result"
    }
   ],
   "source": [
    "left = pd.DataFrame(user_usage)\n",
    "right = pd.DataFrame(user_device)\n",
    "resultMerge = pd.merge(left, right[[\"platform\", \"device\", \"use_id\"]], on=\"use_id\")\n",
    "resultMerge"
   ]
  },
  {
   "cell_type": "markdown",
   "metadata": {},
   "source": [
    "### Afficher la `shape` de vos dataset ainsi que celle du dataset de sortie \n",
    "\n",
    "Que remarquez vous ? "
   ]
  },
  {
   "cell_type": "code",
   "execution_count": 67,
   "metadata": {
    "scrolled": true
   },
   "outputs": [
    {
     "name": "stdout",
     "output_type": "stream",
     "text": [
      "user_usage dimensions: (240, 4)\n",
      "user_device dimensions: (272, 6)\n",
      "result dimensions: (159, 6)\n"
     ]
    }
   ],
   "source": [
    "print(\"user_usage dimensions: {}\".format(pd.DataFrame(user_usage).shape))\n",
    "print(\"user_device dimensions: {}\".format(pd.DataFrame(user_device).shape))\n",
    "print(\"result dimensions: {}\".format(pd.DataFrame(resultMerge).shape))"
   ]
  },
  {
   "cell_type": "markdown",
   "metadata": {},
   "source": [
    "### Afficher via `value_counts` les `use_id` présent dans le nouveau dataset ainsi que ceux non présent "
   ]
  },
  {
   "cell_type": "code",
   "execution_count": 151,
   "metadata": {
    "scrolled": true
   },
   "outputs": [
    {
     "data": {
      "text/plain": [
       "True     159\n",
       "False     81\n",
       "Name: use_id, dtype: int64"
      ]
     },
     "execution_count": 151,
     "metadata": {},
     "output_type": "execute_result"
    }
   ],
   "source": [
    "pd.DataFrame(user_usage)['use_id'].isin(pd.DataFrame(user_device)['use_id']).value_counts()\n"
   ]
  },
  {
   "cell_type": "markdown",
   "metadata": {},
   "source": [
    "### Le left merge\n",
    "\n",
    "Afficher la `shape` du dataset `user_usage`, celle du dataset de sortie ainsi que les valeurs manquantes. "
   ]
  },
  {
   "cell_type": "code",
   "execution_count": 178,
   "metadata": {},
   "outputs": [
    {
     "name": "stdout",
     "output_type": "stream",
     "text": [
      "user_usage dimensions: (240, 4)\n",
      "result dimensions: (240, 6)\n",
      "There are 81 missing values in the result.\n"
     ]
    }
   ],
   "source": [
    "print(\"user_usage dimensions: {}\".format(user_usage.shape))\n",
    "newDataset = pd.merge(left, right[[\"platform\", \"device\", \"use_id\"]],how=\"left\", on=\"use_id\")\n",
    "print(\"result dimensions: {}\".format(newDataset.shape))\n",
    "print(\"There are {} missing values in the result.\" .format(len(user_usage) - len(resultMerge.value_counts())))"
   ]
  },
  {
   "cell_type": "markdown",
   "metadata": {},
   "source": [
    "### Afficher votre dataset "
   ]
  },
  {
   "cell_type": "code",
   "execution_count": 181,
   "metadata": {
    "scrolled": false
   },
   "outputs": [
    {
     "data": {
      "text/html": [
       "<div>\n",
       "<style scoped>\n",
       "    .dataframe tbody tr th:only-of-type {\n",
       "        vertical-align: middle;\n",
       "    }\n",
       "\n",
       "    .dataframe tbody tr th {\n",
       "        vertical-align: top;\n",
       "    }\n",
       "\n",
       "    .dataframe thead th {\n",
       "        text-align: right;\n",
       "    }\n",
       "</style>\n",
       "<table border=\"1\" class=\"dataframe\">\n",
       "  <thead>\n",
       "    <tr style=\"text-align: right;\">\n",
       "      <th></th>\n",
       "      <th>outgoing_mins_per_month</th>\n",
       "      <th>outgoing_sms_per_month</th>\n",
       "      <th>monthly_mb</th>\n",
       "      <th>use_id</th>\n",
       "      <th>platform</th>\n",
       "      <th>device</th>\n",
       "    </tr>\n",
       "  </thead>\n",
       "  <tbody>\n",
       "    <tr>\n",
       "      <th>0</th>\n",
       "      <td>21.97</td>\n",
       "      <td>4.82</td>\n",
       "      <td>1557.33</td>\n",
       "      <td>22787</td>\n",
       "      <td>android</td>\n",
       "      <td>GT-I9505</td>\n",
       "    </tr>\n",
       "    <tr>\n",
       "      <th>1</th>\n",
       "      <td>1710.08</td>\n",
       "      <td>136.88</td>\n",
       "      <td>7267.55</td>\n",
       "      <td>22788</td>\n",
       "      <td>android</td>\n",
       "      <td>SM-G930F</td>\n",
       "    </tr>\n",
       "    <tr>\n",
       "      <th>2</th>\n",
       "      <td>1710.08</td>\n",
       "      <td>136.88</td>\n",
       "      <td>7267.55</td>\n",
       "      <td>22789</td>\n",
       "      <td>android</td>\n",
       "      <td>SM-G930F</td>\n",
       "    </tr>\n",
       "    <tr>\n",
       "      <th>3</th>\n",
       "      <td>94.46</td>\n",
       "      <td>35.17</td>\n",
       "      <td>519.12</td>\n",
       "      <td>22790</td>\n",
       "      <td>android</td>\n",
       "      <td>D2303</td>\n",
       "    </tr>\n",
       "    <tr>\n",
       "      <th>4</th>\n",
       "      <td>71.59</td>\n",
       "      <td>79.26</td>\n",
       "      <td>1557.33</td>\n",
       "      <td>22792</td>\n",
       "      <td>android</td>\n",
       "      <td>SM-G361F</td>\n",
       "    </tr>\n",
       "  </tbody>\n",
       "</table>\n",
       "</div>"
      ],
      "text/plain": [
       "   outgoing_mins_per_month  outgoing_sms_per_month  monthly_mb  use_id  \\\n",
       "0                    21.97                    4.82     1557.33   22787   \n",
       "1                  1710.08                  136.88     7267.55   22788   \n",
       "2                  1710.08                  136.88     7267.55   22789   \n",
       "3                    94.46                   35.17      519.12   22790   \n",
       "4                    71.59                   79.26     1557.33   22792   \n",
       "\n",
       "  platform    device  \n",
       "0  android  GT-I9505  \n",
       "1  android  SM-G930F  \n",
       "2  android  SM-G930F  \n",
       "3  android     D2303  \n",
       "4  android  SM-G361F  "
      ]
     },
     "execution_count": 181,
     "metadata": {},
     "output_type": "execute_result"
    }
   ],
   "source": [
    "newDataset.loc[0:4]"
   ]
  },
  {
   "cell_type": "markdown",
   "metadata": {},
   "source": [
    "### Le right merge\n",
    "\n",
    "Afficher la `shape` du dataset `user_device`, celle du dataset de sortie ainsi que les valeurs manquantes des colonnes `monthly_mb` et `platform`. "
   ]
  },
  {
   "cell_type": "code",
   "execution_count": 49,
   "metadata": {
    "scrolled": true
   },
   "outputs": [
    {
     "name": "stdout",
     "output_type": "stream",
     "text": [
      "user_device dimensions: (272, 6)\n",
      "result dimensions: (272, 6)\n",
      "There are 113 missing values in the 'monthly_mb' column in the result.\n",
      "There are 0 missing values in the 'platform' column in the result.\n"
     ]
    }
   ],
   "source": [
    "print(\"user_device dimensions: {}\".format(user_device.shape))\n",
    "newDataset2 = pd.merge(left, right[[\"platform\", \"device\", \"use_id\"]],how=\"right\", on=\"use_id\")\n",
    "print(\"result dimensions: {}\".format(newDataset2.shape))\n",
    "print(\"There are {} missing values in the 'monthly_mb' column in the result.\" .format(pd.DataFrame(newDataset2)['monthly_mb'].isin(left['monthly_mb']).value_counts()[0]))\n",
    "print(\"There are {} missing values in the 'platform' column in the result.\" .format(newDataset2[\"platform\"].isnull().sum()))\n"
   ]
  },
  {
   "cell_type": "markdown",
   "metadata": {},
   "source": [
    "### Le outer merge example\n",
    "\n",
    "Afficher les valeurs unique de `use_id` des datasets `user_device` & `user_usage`, celle du dataset de sortie ainsi que les valeurs no manquantes. "
   ]
  },
  {
   "cell_type": "code",
   "execution_count": 199,
   "metadata": {},
   "outputs": [
    {
     "name": "stdout",
     "output_type": "stream",
     "text": [
      "There are 353 unique values of use_id in our dataframes.\n",
      "Outer merge result has (353, 10) rows.\n",
      "There are 159 rows with no missing values.\n"
     ]
    }
   ],
   "source": [
    "outer_merge = pd.merge(user_usage, user_device, on=\"use_id\", how=\"outer\", indicator=True)\n",
    "nunique = outer_merge[\"use_id\"].nunique()\n",
    "print(\"There are {} unique values of use_id in our dataframes.\".format(nunique))\n",
    "print(\"Outer merge result has {} rows.\".format(outer_merge.shape))\n",
    "toto = (outer_merge.apply(lambda x: x.isna().sum(), axis=1) == 0).sum()\n",
    "print(\"There are {} rows with no missing values.\".format(toto))\n"
   ]
  },
  {
   "cell_type": "markdown",
   "metadata": {},
   "source": [
    "### Afficher les lignes `0,1,200,201,350,351`"
   ]
  },
  {
   "cell_type": "code",
   "execution_count": 184,
   "metadata": {},
   "outputs": [
    {
     "data": {
      "text/html": [
       "<div>\n",
       "<style scoped>\n",
       "    .dataframe tbody tr th:only-of-type {\n",
       "        vertical-align: middle;\n",
       "    }\n",
       "\n",
       "    .dataframe tbody tr th {\n",
       "        vertical-align: top;\n",
       "    }\n",
       "\n",
       "    .dataframe thead th {\n",
       "        text-align: right;\n",
       "    }\n",
       "</style>\n",
       "<table border=\"1\" class=\"dataframe\">\n",
       "  <thead>\n",
       "    <tr style=\"text-align: right;\">\n",
       "      <th></th>\n",
       "      <th>outgoing_mins_per_month</th>\n",
       "      <th>outgoing_sms_per_month</th>\n",
       "      <th>monthly_mb</th>\n",
       "      <th>use_id</th>\n",
       "      <th>user_id</th>\n",
       "      <th>platform</th>\n",
       "      <th>platform_version</th>\n",
       "      <th>device</th>\n",
       "      <th>use_type_id</th>\n",
       "      <th>_merge</th>\n",
       "    </tr>\n",
       "  </thead>\n",
       "  <tbody>\n",
       "    <tr>\n",
       "      <th>0</th>\n",
       "      <td>21.97</td>\n",
       "      <td>4.82</td>\n",
       "      <td>1557.33</td>\n",
       "      <td>22787</td>\n",
       "      <td>12921.0</td>\n",
       "      <td>android</td>\n",
       "      <td>4.3</td>\n",
       "      <td>GT-I9505</td>\n",
       "      <td>1.0</td>\n",
       "      <td>both</td>\n",
       "    </tr>\n",
       "    <tr>\n",
       "      <th>1</th>\n",
       "      <td>1710.08</td>\n",
       "      <td>136.88</td>\n",
       "      <td>7267.55</td>\n",
       "      <td>22788</td>\n",
       "      <td>28714.0</td>\n",
       "      <td>android</td>\n",
       "      <td>6.0</td>\n",
       "      <td>SM-G930F</td>\n",
       "      <td>1.0</td>\n",
       "      <td>both</td>\n",
       "    </tr>\n",
       "    <tr>\n",
       "      <th>200</th>\n",
       "      <td>28.79</td>\n",
       "      <td>29.42</td>\n",
       "      <td>3114.67</td>\n",
       "      <td>23988</td>\n",
       "      <td>NaN</td>\n",
       "      <td>NaN</td>\n",
       "      <td>NaN</td>\n",
       "      <td>NaN</td>\n",
       "      <td>NaN</td>\n",
       "      <td>left_only</td>\n",
       "    </tr>\n",
       "    <tr>\n",
       "      <th>201</th>\n",
       "      <td>616.56</td>\n",
       "      <td>99.85</td>\n",
       "      <td>5414.14</td>\n",
       "      <td>24006</td>\n",
       "      <td>NaN</td>\n",
       "      <td>NaN</td>\n",
       "      <td>NaN</td>\n",
       "      <td>NaN</td>\n",
       "      <td>NaN</td>\n",
       "      <td>left_only</td>\n",
       "    </tr>\n",
       "    <tr>\n",
       "      <th>350</th>\n",
       "      <td>NaN</td>\n",
       "      <td>NaN</td>\n",
       "      <td>NaN</td>\n",
       "      <td>23050</td>\n",
       "      <td>29726.0</td>\n",
       "      <td>ios</td>\n",
       "      <td>10.2</td>\n",
       "      <td>iPhone7,2</td>\n",
       "      <td>3.0</td>\n",
       "      <td>right_only</td>\n",
       "    </tr>\n",
       "    <tr>\n",
       "      <th>351</th>\n",
       "      <td>NaN</td>\n",
       "      <td>NaN</td>\n",
       "      <td>NaN</td>\n",
       "      <td>23051</td>\n",
       "      <td>29726.0</td>\n",
       "      <td>ios</td>\n",
       "      <td>10.2</td>\n",
       "      <td>iPhone7,2</td>\n",
       "      <td>3.0</td>\n",
       "      <td>right_only</td>\n",
       "    </tr>\n",
       "  </tbody>\n",
       "</table>\n",
       "</div>"
      ],
      "text/plain": [
       "     outgoing_mins_per_month  outgoing_sms_per_month  monthly_mb  use_id  \\\n",
       "0                      21.97                    4.82     1557.33   22787   \n",
       "1                    1710.08                  136.88     7267.55   22788   \n",
       "200                    28.79                   29.42     3114.67   23988   \n",
       "201                   616.56                   99.85     5414.14   24006   \n",
       "350                      NaN                     NaN         NaN   23050   \n",
       "351                      NaN                     NaN         NaN   23051   \n",
       "\n",
       "     user_id platform  platform_version     device  use_type_id      _merge  \n",
       "0    12921.0  android               4.3   GT-I9505          1.0        both  \n",
       "1    28714.0  android               6.0   SM-G930F          1.0        both  \n",
       "200      NaN      NaN               NaN        NaN          NaN   left_only  \n",
       "201      NaN      NaN               NaN        NaN          NaN   left_only  \n",
       "350  29726.0      ios              10.2  iPhone7,2          3.0  right_only  \n",
       "351  29726.0      ios              10.2  iPhone7,2          3.0  right_only  "
      ]
     },
     "execution_count": 184,
     "metadata": {},
     "output_type": "execute_result"
    }
   ],
   "source": [
    "outer_merge.iloc[[0,1,200,201,350,351]]"
   ]
  },
  {
   "cell_type": "markdown",
   "metadata": {},
   "source": [
    "### Ajouter les colonnes `device` & `manufacturer`"
   ]
  },
  {
   "cell_type": "code",
   "execution_count": 218,
   "metadata": {
    "scrolled": true
   },
   "outputs": [
    {
     "name": "stdout",
     "output_type": "stream",
     "text": [
      "        use_id  user_id platform  platform_version     device  use_type_id  \\\n",
      "0      22782.0  26980.0      ios              10.2  iPhone7,2          2.0   \n",
      "1      22785.0  15200.0      ios              10.2  iPhone7,2          3.0   \n",
      "2      22796.0  29641.0      ios              10.2  iPhone7,2          3.0   \n",
      "3      22809.0  29648.0      ios              10.2  iPhone7,2          3.0   \n",
      "4      22827.0  29641.0      ios              10.2  iPhone7,2          3.0   \n",
      "...        ...      ...      ...               ...        ...          ...   \n",
      "14813      NaN      NaN      NaN               NaN        NaN          NaN   \n",
      "14814      NaN      NaN      NaN               NaN        NaN          NaN   \n",
      "14815      NaN      NaN      NaN               NaN        NaN          NaN   \n",
      "14816      NaN      NaN      NaN               NaN        NaN          NaN   \n",
      "14817      NaN      NaN      NaN               NaN        NaN          NaN   \n",
      "\n",
      "      Retail Branding Marketing Name       Device        Model      _merge  \n",
      "0                 NaN            NaN          NaN          NaN   left_only  \n",
      "1                 NaN            NaN          NaN          NaN   left_only  \n",
      "2                 NaN            NaN          NaN          NaN   left_only  \n",
      "3                 NaN            NaN          NaN          NaN   left_only  \n",
      "4                 NaN            NaN          NaN          NaN   left_only  \n",
      "...               ...            ...          ...          ...         ...  \n",
      "14813           pendo    PNDPP44QC10  PNDPP44QC10  PNDPP44QC10  right_only  \n",
      "14814           pendo     PNDPP44QC7   PNDPP44QC7   PNDPP44QC7  right_only  \n",
      "14815      sugar_aums         QPOINT        QPI-1        QPI-1  right_only  \n",
      "14816       tecmobile       OmnisOne     OmnisOne    Omnis One  right_only  \n",
      "14817           ucall          EASY1        EASY1        EASY1  right_only  \n",
      "\n",
      "[14818 rows x 11 columns]\n"
     ]
    }
   ],
   "source": [
    "toto = pd.merge(user_device, android_devices, left_on=\"device\", right_on=\"Retail Branding\", how=\"outer\", indicator=True)\n",
    "print(toto)"
   ]
  },
  {
   "cell_type": "markdown",
   "metadata": {},
   "source": [
    "### Afficher les `device` commencant par 'GT'"
   ]
  },
  {
   "cell_type": "code",
   "execution_count": 234,
   "metadata": {
    "scrolled": true
   },
   "outputs": [
    {
     "name": "stdout",
     "output_type": "stream",
     "text": [
      "      use_id  user_id platform  platform_version     device  use_type_id  \\\n",
      "34   22787.0  12921.0  android               4.3   GT-I9505          1.0   \n",
      "35   22801.0  10976.0  android               4.4   GT-I9505          1.0   \n",
      "36   22802.0  10976.0  android               4.4   GT-I9505          3.0   \n",
      "37   22875.0  27593.0  android               5.0   GT-I9505          1.0   \n",
      "38   22876.0  27593.0  android               5.0   GT-I9505          1.0   \n",
      "39   22880.0  29366.0  android               5.0   GT-I9505          1.0   \n",
      "40   22888.0  29668.0  android               5.0   GT-I9505          1.0   \n",
      "41   22908.0  10563.0  android               5.0   GT-I9505          1.0   \n",
      "42   22923.0   6111.0  android               5.0   GT-I9505          1.0   \n",
      "43   22942.0  20474.0  android               5.0   GT-I9505          1.0   \n",
      "44   22965.0   2873.0  android               5.0   GT-I9505          1.0   \n",
      "45   22977.0  24520.0  android               5.0   GT-I9505          1.0   \n",
      "46   22997.0  26328.0  android               5.0   GT-I9505          1.0   \n",
      "105  22805.0  29646.0  android               4.2   GT-I9195          1.0   \n",
      "106  22887.0  29310.0  android               4.4   GT-I9195          1.0   \n",
      "107  22916.0  19526.0  android               4.4   GT-I9195          1.0   \n",
      "158  22831.0   6541.0  android               4.1  GT-I8190N          1.0   \n",
      "195  22871.0  18883.0  android               4.3   GT-I9300          1.0   \n",
      "196  22872.0  18883.0  android               4.3   GT-I9300          3.0   \n",
      "197  22955.0  26797.0  android               4.3   GT-I9300          1.0   \n",
      "232  22926.0  29681.0  android               5.0   GT-I9515          1.0   \n",
      "233  22927.0  29681.0  android               5.0   GT-I9515          1.0   \n",
      "234  22985.0   6356.0  android               5.0   GT-I9515          1.0   \n",
      "238  22943.0  29689.0  android               4.1   GT-N7100          1.0   \n",
      "239  22944.0  29689.0  android               4.1   GT-N7100          1.0   \n",
      "257  22999.0  29706.0  android               5.0   GT-I9506          1.0   \n",
      "\n",
      "    Retail Branding Marketing Name Device Model     _merge  \n",
      "34              NaN            NaN    NaN   NaN  left_only  \n",
      "35              NaN            NaN    NaN   NaN  left_only  \n",
      "36              NaN            NaN    NaN   NaN  left_only  \n",
      "37              NaN            NaN    NaN   NaN  left_only  \n",
      "38              NaN            NaN    NaN   NaN  left_only  \n",
      "39              NaN            NaN    NaN   NaN  left_only  \n",
      "40              NaN            NaN    NaN   NaN  left_only  \n",
      "41              NaN            NaN    NaN   NaN  left_only  \n",
      "42              NaN            NaN    NaN   NaN  left_only  \n",
      "43              NaN            NaN    NaN   NaN  left_only  \n",
      "44              NaN            NaN    NaN   NaN  left_only  \n",
      "45              NaN            NaN    NaN   NaN  left_only  \n",
      "46              NaN            NaN    NaN   NaN  left_only  \n",
      "105             NaN            NaN    NaN   NaN  left_only  \n",
      "106             NaN            NaN    NaN   NaN  left_only  \n",
      "107             NaN            NaN    NaN   NaN  left_only  \n",
      "158             NaN            NaN    NaN   NaN  left_only  \n",
      "195             NaN            NaN    NaN   NaN  left_only  \n",
      "196             NaN            NaN    NaN   NaN  left_only  \n",
      "197             NaN            NaN    NaN   NaN  left_only  \n",
      "232             NaN            NaN    NaN   NaN  left_only  \n",
      "233             NaN            NaN    NaN   NaN  left_only  \n",
      "234             NaN            NaN    NaN   NaN  left_only  \n",
      "238             NaN            NaN    NaN   NaN  left_only  \n",
      "239             NaN            NaN    NaN   NaN  left_only  \n",
      "257             NaN            NaN    NaN   NaN  left_only  \n"
     ]
    }
   ],
   "source": [
    "# toto.loc(toto['device'] == \"Samsung\")\n",
    "print(toto.loc[toto['device'].str.startswith(\"GT\", na=False)])"
   ]
  },
  {
   "cell_type": "markdown",
   "metadata": {},
   "source": [
    "### Afficher le dataset des résultats "
   ]
  },
  {
   "cell_type": "code",
   "execution_count": null,
   "metadata": {
    "scrolled": false
   },
   "outputs": [],
   "source": []
  },
  {
   "cell_type": "markdown",
   "metadata": {},
   "source": [
    "### Grouper vos données par `manufacturer`\n",
    "Compter les `use_id` et afficher les moyennes des colonnes `outgoing_mins_per_month`, `outgoing_sms_per_month`, `monthly_mb`"
   ]
  },
  {
   "cell_type": "code",
   "execution_count": null,
   "metadata": {},
   "outputs": [],
   "source": []
  },
  {
   "cell_type": "code",
   "execution_count": null,
   "metadata": {},
   "outputs": [],
   "source": []
  }
 ],
 "metadata": {
  "kernelspec": {
   "display_name": "Python 3",
   "language": "python",
   "name": "python3"
  },
  "language_info": {
   "codemirror_mode": {
    "name": "ipython",
    "version": 3
   },
   "file_extension": ".py",
   "mimetype": "text/x-python",
   "name": "python",
   "nbconvert_exporter": "python",
   "pygments_lexer": "ipython3",
   "version": "3.8.6"
  },
  "latex_envs": {
   "LaTeX_envs_menu_present": true,
   "autoclose": false,
   "autocomplete": true,
   "bibliofile": "biblio.bib",
   "cite_by": "apalike",
   "current_citInitial": 1,
   "eqLabelWithNumbers": true,
   "eqNumInitial": 1,
   "hotkeys": {
    "equation": "Ctrl-E",
    "itemize": "Ctrl-I"
   },
   "labels_anchors": false,
   "latex_user_defs": false,
   "report_style_numbering": false,
   "user_envs_cfg": false
  },
  "toc": {
   "base_numbering": 1,
   "nav_menu": {},
   "number_sections": true,
   "sideBar": true,
   "skip_h1_title": false,
   "title_cell": "Table of Contents",
   "title_sidebar": "Contents",
   "toc_cell": false,
   "toc_position": {},
   "toc_section_display": true,
   "toc_window_display": false
  },
  "varInspector": {
   "cols": {
    "lenName": 16,
    "lenType": 16,
    "lenVar": 40
   },
   "kernels_config": {
    "python": {
     "delete_cmd_postfix": "",
     "delete_cmd_prefix": "del ",
     "library": "var_list.py",
     "varRefreshCmd": "print(var_dic_list())"
    },
    "r": {
     "delete_cmd_postfix": ") ",
     "delete_cmd_prefix": "rm(",
     "library": "var_list.r",
     "varRefreshCmd": "cat(var_dic_list()) "
    }
   },
   "types_to_exclude": [
    "module",
    "function",
    "builtin_function_or_method",
    "instance",
    "_Feature"
   ],
   "window_display": false
  }
 },
 "nbformat": 4,
 "nbformat_minor": 1
}
