{
 "cells": [
  {
   "cell_type": "code",
   "execution_count": null,
   "metadata": {},
   "outputs": [],
   "source": [
    "class CompteBancaire :\n",
    "    def __init__(self, name = \"Dupont\", solde = 1000) :\n",
    "        self.name = name\n",
    "        self.solde = solde\n",
    "    \n",
    "    def depot(self, entre) :\n",
    "        self.solde += entre\n",
    "        \n",
    "    def retrait(self, sortie) :\n",
    "        self.solde -= sortie\n",
    "        \n",
    "    def affiche(self) :\n",
    "        print(\"Le solde du compte bancaire de {} est de {}\".format(self.name, self.solde))\n",
    "        \n",
    "compte1 = CompteBancaire('Duchmol', 800)\n",
    "compte1.depot(350)\n",
    "compte1.retrait(200)\n",
    "compte1.affiche()\n",
    "\n",
    "compte2 = CompteBancaire()\n",
    "compte2.depot(25)\n",
    "compte2.affiche()"
   ]
  }
 ],
 "metadata": {
  "kernelspec": {
   "display_name": "Python 3",
   "language": "python",
   "name": "python3"
  },
  "language_info": {
   "codemirror_mode": {
    "name": "ipython",
    "version": 3
   },
   "file_extension": ".py",
   "mimetype": "text/x-python",
   "name": "python",
   "nbconvert_exporter": "python",
   "pygments_lexer": "ipython3",
   "version": "3.8.6"
  }
 },
 "nbformat": 4,
 "nbformat_minor": 4
}
