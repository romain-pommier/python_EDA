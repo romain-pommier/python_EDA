{
 "cells": [
  {
   "cell_type": "code",
   "execution_count": 48,
   "metadata": {},
   "outputs": [
    {
     "name": "stdout",
     "output_type": "stream",
     "text": [
      "- Nom: Ilyass\n",
      "- Prénom: Math\n",
      "- Date de naissance: 01 / 07 / 1982\n",
      "- Nom: Ilyass\n",
      "- Prénom: Math\n",
      "- Date de naissance: 01 / 07 / 1982\n",
      "- Salaire: 7865.548€\n",
      "- Nom: Ilyass\n",
      "- Prénom: Math\n",
      "- Date de naissance: 01 / 07 / 1982\n",
      "- Salaire: 7865.548€\n",
      "- Service: Ressource humaine\n"
     ]
    }
   ],
   "source": [
    "class DateNaissance:\n",
    "    def __init__(self, jour, mois, annee) :\n",
    "        self.jour = jour\n",
    "        self.mois = mois\n",
    "        self.annee = annee\n",
    "        \n",
    "    def __str__(self) :\n",
    "        return \"{:0>2d} / {:0>2d} / {}\".format(self.jour, self.mois, self.annee)\n",
    "\n",
    "class Employe(Personne):\n",
    "    def __init__(self, lastName, firstName, birthday, salaire) :\n",
    "        super().__init__( lastName, firstName, birthday)\n",
    "        self.salaire = salaire\n",
    "    \n",
    "    def afficher(self):\n",
    "        super().afficher()\n",
    "        print(\"- Salaire: {}€\".format(self.salaire))\n",
    "        \n",
    "class Chef (Employe):\n",
    "    def __init__(self, lastName, firstName, birthday, salaire, service) :\n",
    "        super().__init__( lastName, firstName, birthday, salaire)\n",
    "        self.service = service\n",
    "        \n",
    "    def afficher(self):\n",
    "        super().afficher()\n",
    "        print(\"- Service: {}\".format(self.service))\n",
    "        \n",
    "class Personne :\n",
    "    def __init__(self, lastName, firstName, birthday) :\n",
    "        self.lastName = lastName\n",
    "        self.firstName = firstName\n",
    "        self.birthday = birthday\n",
    "    \n",
    "    def afficher(self):\n",
    "        print(\"- Nom: {}\".format(self.lastName))\n",
    "        print(\"- Prénom: {}\".format(self.firstName))\n",
    "        print(\"- Date de naissance: {}\".format(self.birthday))\n",
    "        \n",
    "   \n",
    "\n",
    "\n",
    "        \n",
    "\n",
    "        \n",
    "        \n",
    "P=Personne(\"Ilyass\",\"Math\",DateNaissance(1,7,1982))\n",
    "P.afficher()\n",
    "\n",
    "E = Employe(\"Ilyass\",\"Math\",DateNaissance(1,7,1982), 7865.548)\n",
    "E.afficher()\n",
    "\n",
    "C = Chef(\"Ilyass\",\"Math\",DateNaissance(1,7,1982), 7865.548, \"Ressource humaine\")\n",
    "C.afficher()"
   ]
  }
 ],
 "metadata": {
  "kernelspec": {
   "display_name": "Python 3",
   "language": "python",
   "name": "python3"
  },
  "language_info": {
   "codemirror_mode": {
    "name": "ipython",
    "version": 3
   },
   "file_extension": ".py",
   "mimetype": "text/x-python",
   "name": "python",
   "nbconvert_exporter": "python",
   "pygments_lexer": "ipython3",
   "version": "3.8.6"
  }
 },
 "nbformat": 4,
 "nbformat_minor": 4
}
