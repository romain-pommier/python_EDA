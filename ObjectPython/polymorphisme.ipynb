{
 "cells": [
  {
   "cell_type": "code",
   "execution_count": 49,
   "metadata": {},
   "outputs": [
    {
     "name": "stdout",
     "output_type": "stream",
     "text": [
      "Lettre: \n",
      "Adresse destination: Lille\n",
      "Adresse expédition: Paris\n",
      "Poids: 80.0\n",
      "Type: normal\n",
      "Format: A5\n",
      "Prix du timbre 0.28€\n",
      "Colis: \n",
      "Adresse destination: Marrakeche\n",
      "Adresse expédition: Barcelone\n",
      "Poids: 3500.0\n",
      "Type: expresse\n",
      "Volume: 2.25\n",
      "Prix du timbre 3.94€\n"
     ]
    }
   ],
   "source": [
    "class Courrier:\n",
    "    def __init__(self, destinationAdress, destinationShipping, poids, expeditionType):\n",
    "        self.poids = poids/1000\n",
    "        self.expeditionType = expeditionType\n",
    "        self.destinationAdress = destinationAdress\n",
    "        self.destinationShipping = destinationShipping\n",
    "        self.multiplicateur = 1 if self.expeditionType == \"normal\" else 2\n",
    "        \n",
    "    def ToString(self):\n",
    "        print(\"Adresse destination: {}\".format(self.destinationAdress))\n",
    "        print(\"Adresse expédition: {}\".format(self.destinationShipping))\n",
    "        print(\"Poids: {}\".format(self.poids*1000))\n",
    "        print(\"Type: {}\".format(self.expeditionType))\n",
    "        \n",
    "\n",
    "class Lettre(Courrier):\n",
    "    def __init__(self, destinationAdress, destinationShipping, poids, expeditionType, format):\n",
    "        super().__init__(destinationAdress, destinationShipping, poids, expeditionType)\n",
    "        self.format = format\n",
    "        self.basicPrice = 2.50 if format == \"A4\" else 3.50\n",
    "        \n",
    "    def calculTimbre(self):\n",
    "        return self.basicPrice * self.poids * self.multiplicateur\n",
    "        \n",
    "    def ToString(self):\n",
    "        print(\"Lettre: \")\n",
    "        super().ToString()\n",
    "        print(\"Format: {}\".format(self.format))\n",
    "        print(\"Prix du timbre {:0.2f}€\".format(self.calculTimbre()))\n",
    "        \n",
    "        \n",
    "class Colis(Courrier):\n",
    "    def __init__(self, destinationAdress, destinationShipping, poids, expeditionType, volume):\n",
    "        super().__init__(destinationAdress, destinationShipping, poids, expeditionType)\n",
    "        self.volume = volume\n",
    "    \n",
    "    def calculTimbre(self):\n",
    "        return 0.25 * self.volume * self.poids * self.multiplicateur\n",
    "        \n",
    "    def ToString(self):\n",
    "        print(\"Colis: \")\n",
    "        super().ToString()\n",
    "        print(\"Volume: {}\".format(self.volume))\n",
    "        print(\"Prix du timbre {:0.2f}€\".format(self.calculTimbre()))\n",
    "\n",
    "L1 = Lettre(\"Lille\", \"Paris\", 80, \"normal\", \"A5\")\n",
    "L1.ToString()\n",
    "\n",
    "C1 = Colis(\"Marrakeche\", \"Barcelone\", 3500, \"expresse\", 2.25)\n",
    "C1.ToString()"
   ]
  },
  {
   "cell_type": "code",
   "execution_count": null,
   "metadata": {},
   "outputs": [],
   "source": []
  },
  {
   "cell_type": "code",
   "execution_count": null,
   "metadata": {},
   "outputs": [],
   "source": []
  }
 ],
 "metadata": {
  "kernelspec": {
   "display_name": "Python 3",
   "language": "python",
   "name": "python3"
  },
  "language_info": {
   "codemirror_mode": {
    "name": "ipython",
    "version": 3
   },
   "file_extension": ".py",
   "mimetype": "text/x-python",
   "name": "python",
   "nbconvert_exporter": "python",
   "pygments_lexer": "ipython3",
   "version": "3.8.6"
  }
 },
 "nbformat": 4,
 "nbformat_minor": 4
}
